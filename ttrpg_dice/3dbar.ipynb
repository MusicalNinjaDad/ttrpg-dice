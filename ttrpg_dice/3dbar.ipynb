{
 "cells": [
  {
   "cell_type": "code",
   "execution_count": null,
   "metadata": {},
   "outputs": [],
   "source": [
    "from matplotlib import pyplot as plt\n",
    "\n",
    "# Empty 3d grid all 3 axes ranging 0..1\n",
    "fig, ax = plt.subplots(subplot_kw={\"projection\": \"3d\"})\n",
    "# plt.show()\n",
    "\n",
    "# positions of bars\n",
    "x = [0, 0.4, 0.8]\n",
    "y = [0.1, 0.5, 0.9]\n",
    "z = [0, 0, 0]\n",
    "# widths of bars\n",
    "dx = [0.2, 0.2, 0.2]\n",
    "dy = [0.1, 0.1, 0.1]\n",
    "\n",
    "# heights of bars\n",
    "dz = [0.2, 0.3, 0.5]\n",
    "\n",
    "ax.bar3d(x,y,z,dx,dy,dz,shade=True)\n",
    "ax.set_xticks(x, [\"A\",\"B\",\"C\"])\n",
    "ax.set_yticks([0.15,0.55,0.95], [\"One\",\"Two\",\"Three\"],verticalalignment=\"bottom\", horizontalalignment = \"left\")\n",
    "# supported values are 'top', 'bottom', 'center', 'baseline', 'center_baseline'\n",
    "plt.show()\n",
    "\n",
    "\n"
   ]
  }
 ],
 "metadata": {
  "kernelspec": {
   "display_name": ".venv",
   "language": "python",
   "name": "python3"
  },
  "language_info": {
   "codemirror_mode": {
    "name": "ipython",
    "version": 3
   },
   "file_extension": ".py",
   "mimetype": "text/x-python",
   "name": "python",
   "nbconvert_exporter": "python",
   "pygments_lexer": "ipython3",
   "version": "3.13.1"
  }
 },
 "nbformat": 4,
 "nbformat_minor": 2
}
