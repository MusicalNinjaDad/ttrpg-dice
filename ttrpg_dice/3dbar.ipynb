{
 "cells": [
  {
   "cell_type": "code",
   "execution_count": null,
   "metadata": {},
   "outputs": [],
   "source": [
    "from matplotlib import pyplot as plt\n",
    "\n",
    "# Empty 3d grid all 3 axes ranging 0..1\n",
    "fig, ax = plt.subplots(subplot_kw={\"projection\": \"3d\"})\n",
    "# plt.show()\n",
    "\n",
    "# positions of bars\n",
    "x = [1, 2, 3] * 3\n",
    "y = [0.3]*3 + [1.3] * 3 + [2.3] * 3\n",
    "z = [0] * 9\n",
    "# widths of bars\n",
    "dx = [1] * 9\n",
    "dy = [0.4] * 9\n",
    "\n",
    "# heights of bars\n",
    "dz = [0.2, 0.3, 0.5, 0.1, 0.7, 0.9, 0.4, 0.6, 0.2]\n",
    "\n",
    "colours = [\n",
    "    \"g\",\n",
    "    \"r\",\n",
    "    \"b\",\n",
    "    \"c\",\n",
    "    \"m\",\n",
    "    \"y\",\n",
    "] * 9\n",
    "\n",
    "ax.bar3d(x, y, z, dx, dy, dz, color=colours, shade=True)\n",
    "ax.set_xticks([1.5, 2.5, 3.5], [\"A\",\"B\",\"C\"])\n",
    "ax.set_yticks([0.5, 1.5, 2.5], [\"One\", \"Two\", \"Three\"], verticalalignment=\"bottom\", horizontalalignment=\"left\")\n",
    "# supported values are 'top', 'bottom', 'center', 'baseline', 'center_baseline'\n",
    "plt.show()\n",
    "\n",
    "\n"
   ]
  }
 ],
 "metadata": {
  "kernelspec": {
   "display_name": ".venv",
   "language": "python",
   "name": "python3"
  },
  "language_info": {
   "codemirror_mode": {
    "name": "ipython",
    "version": 3
   },
   "file_extension": ".py",
   "mimetype": "text/x-python",
   "name": "python",
   "nbconvert_exporter": "python",
   "pygments_lexer": "ipython3",
   "version": "3.13.1"
  }
 },
 "nbformat": 4,
 "nbformat_minor": 2
}
