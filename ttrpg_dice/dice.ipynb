{
 "cells": [
  {
   "cell_type": "markdown",
   "metadata": {},
   "source": [
    "# Goblins Attack!\n",
    "A few goblins attack and you don't want to roll for each one of them separately ..."
   ]
  },
  {
   "cell_type": "code",
   "execution_count": 7,
   "metadata": {},
   "outputs": [
    {
     "name": "stdout",
     "output_type": "stream",
     "text": [
      "Lazyroll table for up to 5d100 targeting 25 for success:\n",
      "\n",
      "\tHITS\n",
      "\t1\t2\t3\t4\t5\n",
      "1\t25\n",
      "2\t44\t6\n",
      "3\t58\t16\t2\n",
      "4\t68\t26\t5\t0\n",
      "5\t76\t37\t10\t2\t0\n"
     ]
    }
   ],
   "source": [
    "from ttrpg_dice import LazyRollTable\n",
    "\n",
    "goblins = 5\n",
    "BS = 25\n",
    "\n",
    "print(LazyRollTable(goblins, 100, BS))"
   ]
  }
 ],
 "metadata": {
  "kernelspec": {
   "display_name": ".venv",
   "language": "python",
   "name": "python3"
  },
  "language_info": {
   "codemirror_mode": {
    "name": "ipython",
    "version": 3
   },
   "file_extension": ".py",
   "mimetype": "text/x-python",
   "name": "python",
   "nbconvert_exporter": "python",
   "pygments_lexer": "ipython3",
   "version": "3.13.1"
  }
 },
 "nbformat": 4,
 "nbformat_minor": 2
}
