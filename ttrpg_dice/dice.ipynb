{
 "cells": [
  {
   "cell_type": "markdown",
   "metadata": {},
   "source": [
    "# Goblins Attack!\n",
    "A few goblins attack and you don't want to roll for each one of them separately ..."
   ]
  },
  {
   "cell_type": "code",
   "execution_count": null,
   "metadata": {},
   "outputs": [],
   "source": [
    "from ttrpg_dice import LazyRollTable\n",
    "\n",
    "goblins = 5\n",
    "BS = 25\n",
    "\n",
    "print(LazyRollTable(goblins, 100, BS))"
   ]
  },
  {
   "cell_type": "markdown",
   "metadata": {},
   "source": [
    "# Who do you meet?\n",
    "Adjust random encounter probabilites by using different dice combinations"
   ]
  },
  {
   "cell_type": "code",
   "execution_count": null,
   "metadata": {},
   "outputs": [],
   "source": [
    "from ttrpg_dice import Dice as d  # noqa: N813\n",
    "\n",
    "nice = 2 * d(12)\n",
    "\n",
    "print(list(nice))"
   ]
  }
 ],
 "metadata": {
  "kernelspec": {
   "display_name": ".venv",
   "language": "python",
   "name": "python3"
  },
  "language_info": {
   "codemirror_mode": {
    "name": "ipython",
    "version": 3
   },
   "file_extension": ".py",
   "mimetype": "text/x-python",
   "name": "python",
   "nbconvert_exporter": "python",
   "pygments_lexer": "ipython3",
   "version": "3.13.1"
  }
 },
 "nbformat": 4,
 "nbformat_minor": 2
}
