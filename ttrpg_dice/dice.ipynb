{
 "cells": [
  {
   "cell_type": "markdown",
   "metadata": {},
   "source": [
    "# Goblins Attack!\n",
    "A few goblins attack and you don't want to roll for each one of them separately ..."
   ]
  },
  {
   "cell_type": "code",
   "execution_count": null,
   "metadata": {},
   "outputs": [],
   "source": [
    "from ttrpg_dice import LazyRollTable\n",
    "\n",
    "goblins = 5\n",
    "BS = 25\n",
    "\n",
    "print(LazyRollTable(goblins, 100, BS))"
   ]
  },
  {
   "cell_type": "markdown",
   "metadata": {},
   "source": [
    "# Who do you meet?\n",
    "Adjust random encounter probabilites by using different dice combinations"
   ]
  },
  {
   "cell_type": "code",
   "execution_count": null,
   "metadata": {},
   "outputs": [],
   "source": [
    "%matplotlib qt\n",
    "from ttrpg_dice import d\n",
    "from ttrpg_dice.manydice import PoolComparison\n",
    "\n",
    "pools = [2 * d(12), 3 * d(8), 4 * d(6), 6 * d(4)]\n",
    "\n",
    "encounters = {\n",
    "\"nicehumanoid\": slice(None,6),\n",
    "\"neutral\": slice(6,15),\n",
    "\"nastyhumanoid\": slice(15,20),\n",
    "\"nastyanimal\": slice(21,None),\n",
    "}\n",
    "\n",
    "comparison = PoolComparison(pools=pools, outcomes=encounters)\n",
    "print(comparison)\n",
    "\n",
    "fig, ax = comparison.plot()\n",
    "fig.show()"
   ]
  }
 ],
 "metadata": {
  "kernelspec": {
   "display_name": ".venv",
   "language": "python",
   "name": "python3"
  },
  "language_info": {
   "codemirror_mode": {
    "name": "ipython",
    "version": 3
   },
   "file_extension": ".py",
   "mimetype": "text/x-python",
   "name": "python",
   "nbconvert_exporter": "python",
   "pygments_lexer": "ipython3",
   "version": "3.13.1"
  }
 },
 "nbformat": 4,
 "nbformat_minor": 2
}
